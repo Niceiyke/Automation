{
 "cells": [
  {
   "cell_type": "code",
   "execution_count": null,
   "id": "f99f64fe",
   "metadata": {},
   "outputs": [],
   "source": [
    "from selenium import webdriver\n",
    "from  selenium.webdriver.common.keys import Keys\n",
    "from selenium.webdriver.common.by import By\n",
    "from selenium.webdriver.support.wait import WebDriverWait\n",
    "from selenium.webdriver.support import expected_conditions as EC\n",
    "\n"
   ]
  },
  {
   "cell_type": "code",
   "execution_count": null,
   "id": "a2a3450b",
   "metadata": {},
   "outputs": [],
   "source": [
    "brand='Tecno'\n",
    "operating_system=''\n",
    "rating='3-5'\n",
    "screen_size=''\n",
    "currentpage=1\n",
    "url=f'https://www.jumia.com.ng/smartphones/{brand}/?operating_system={operating_system}&rating={rating}&screen_size={screen_size}&page={currentpage}#catalog-listing'"
   ]
  },
  {
   "cell_type": "code",
   "execution_count": null,
   "id": "a253f933",
   "metadata": {},
   "outputs": [],
   "source": [
    "driver= webdriver.Chrome()\n",
    "driver.get(url)\n",
    "\n",
    "page_count=0\n",
    "max_page=10"
   ]
  },
  {
   "cell_type": "code",
   "execution_count": null,
   "id": "80bc908e",
   "metadata": {},
   "outputs": [],
   "source": [
    "pinfo=[]\n",
    "while page_count<max_page:\n",
    "    allitems=driver.find_element(By.CLASS_NAME,'_4cl-3cm-shs')\n",
    "    classitem= allitems.find_elements_by_class_name('c-prd')\n",
    "    for item in classitem:\n",
    "        try:\n",
    "            info=(item.find_element(By.CLASS_NAME, 'name')).text\n",
    "            price=(item.find_element(By.CLASS_NAME, 'prc')).text\n",
    "            img=(item.find_element(By.CLASS_NAME, 'img'))\n",
    "            img=img.get_attribute('data-src')\n",
    "            link=(item.find_element(By.CLASS_NAME, 'core'))\n",
    "            link=link.get_attribute('href')\n",
    "            pinfo.append([info,price,img,link])\n",
    "        except:Exception\n",
    "        print(Exception)\n",
    "\n",
    "\n",
    "    currentpage+=1\n",
    "    print(currentpage)\n",
    "    url=f'https://www.jumia.com.ng/smartphones/{brand}/?operating_system={operating_system}&rating={rating}&screen_size={screen_size}&page={currentpage}#catalog-listing'\n",
    "    driver.get(url)\n",
    "\n",
    "\n",
    "driver.close()"
   ]
  },
  {
   "cell_type": "code",
   "execution_count": null,
   "id": "011741f6",
   "metadata": {},
   "outputs": [],
   "source": [
    "pinfo"
   ]
  }
 ],
 "metadata": {
  "interpreter": {
   "hash": "06ce59bfc3d36d69260e0849980d4e713c9d742285fce02057ca95e0d6262718"
  },
  "kernelspec": {
   "display_name": "Python 3.9.12 ('base')",
   "language": "python",
   "name": "python3"
  },
  "language_info": {
   "codemirror_mode": {
    "name": "ipython",
    "version": 3
   },
   "file_extension": ".py",
   "mimetype": "text/x-python",
   "name": "python",
   "nbconvert_exporter": "python",
   "pygments_lexer": "ipython3",
   "version": "3.9.12"
  }
 },
 "nbformat": 4,
 "nbformat_minor": 5
}
