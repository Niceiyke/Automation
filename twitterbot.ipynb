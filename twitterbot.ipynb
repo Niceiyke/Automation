{
 "cells": [
  {
   "cell_type": "code",
   "execution_count": null,
   "metadata": {},
   "outputs": [],
   "source": [
    "from selenium import webdriver\n",
    "from  selenium.webdriver.common.keys import Keys\n",
    "from selenium.webdriver.common.by import By\n",
    "from selenium.webdriver.support.wait import WebDriverWait\n",
    "from selenium.webdriver.support import expected_conditions as EC\n",
    "import time"
   ]
  },
  {
   "cell_type": "code",
   "execution_count": null,
   "metadata": {},
   "outputs": [],
   "source": [
    "driver= webdriver.Chrome()\n",
    "driver.implicitly_wait(30)\n",
    "driver.maximize_window()\n",
    "driver.get('https://twitter.com/i/flow/login')\n",
    "time.sleep(30)\n"
   ]
  },
  {
   "cell_type": "code",
   "execution_count": null,
   "metadata": {},
   "outputs": [],
   "source": [
    "username=driver.find_element(By.XPATH,'//input')\n",
    "username.clear()\n",
    "username.send_keys('i_davidwonder')\n",
    "username.send_keys(Keys.ENTER)\n",
    "time.sleep(5)"
   ]
  },
  {
   "cell_type": "code",
   "execution_count": null,
   "metadata": {},
   "outputs": [],
   "source": [
    "password=driver.find_element(By.XPATH,'//input[@name=\"password\"]')\n",
    "password.send_keys('oyomw4rld')\n",
    "password.send_keys(Keys.ENTER)\n",
    "time.sleep(10)"
   ]
  },
  {
   "cell_type": "code",
   "execution_count": null,
   "metadata": {},
   "outputs": [],
   "source": [
    "## hashtag Trend\n",
    "\n",
    "hashtags=[\"TakeBackNaija\",\"blackchully\",\"PeterObi2023\"]\n",
    "for hashtag in hashtags:\n",
    "    url=f'https://twitter.com/search?q=%23{hashtag}&src=typeahead_click&f=live'\n",
    "    driver.get(url)\n",
    "    time.sleep(4)\n",
    "    n_likes=0\n",
    "    n_retweets=0\n",
    "    for i in range(1,5):\n",
    "        driver.execute_script(\"window.scrollTo(0,document.body.scrollHeight);\")\n",
    "\n",
    "    likes=driver.find_elements(By.XPATH,'//div[contains(@data-testid,\"like\")]')\n",
    "    retweets=(driver.find_elements(By.XPATH,'//div[contains(@data-testid,\"retweet\")]'))\n",
    "    n_likes +=len(likes)\n",
    "    n_retweets+=len(retweets)\n",
    "    print(n_likes,n_retweets)\n",
    "\n",
    "    for l in range(len(likes)-1):\n",
    "        driver.execute_script('arguments[0].click();',likes[l])\n",
    "        time.sleep(2)\n",
    "        retweets=(driver.find_elements(By.XPATH,'//div[contains(@data-testid,\"retweet\")]'))[l]\n",
    "        driver.execute_script('arguments[0].click();',retweets)\n",
    "        retweet=driver.find_element(By.XPATH,'//*[@id=\"layers\"]/div[2]/div/div/div/div[2]/div[3]/div/div/div/div/div[2]/div/span')\n",
    "        driver.execute_script('arguments[0].click();',retweet)\n",
    "        time.sleep(2)      \n",
    "\n",
    "    time.sleep(5)\n",
    "\n",
    "print('bot liked', n_likes,'tweets, and retweeted', n_retweets)\n",
    "\n",
    "time.sleep(60)\n"
   ]
  },
  {
   "cell_type": "code",
   "execution_count": null,
   "metadata": {},
   "outputs": [],
   "source": [
    "## Keyword Trend\n",
    "\n",
    "hashtags=[\"TakeBackNaija\",\"owo\",\"Peter Obi\"]\n",
    "for hashtag in hashtags:\n",
    "    url=f'https://twitter.com/search?q={hashtag}&src=typed_query&f=top'\n",
    "    driver.get(url)\n",
    "    time.sleep(4)\n",
    "    n_likes=0\n",
    "    n_retweets=0\n",
    "\n",
    "      for i in range(1,5):\n",
    "        driver.execute_script(\"window.scrollTo(0,document.body.scrollHeight);\")\n",
    "\n",
    "    likes=driver.find_elements(By.XPATH,'//div[contains(@data-testid,\"like\")]')\n",
    "    retweets=(driver.find_elements(By.XPATH,'//div[contains(@data-testid,\"retweet\")]'))\n",
    "    n_likes +=len(likes)\n",
    "    n_retweets+=len(retweets)\n",
    "    print(n_likes,n_retweets)\n",
    "\n",
    "    for l in range(len(likes)-1):\n",
    "        driver.execute_script('arguments[0].click();',likes[l])\n",
    "        time.sleep(2)\n",
    "        retweets=(driver.find_elements(By.XPATH,'//div[contains(@data-testid,\"retweet\")]'))[l]\n",
    "        driver.execute_script('arguments[0].click();',retweets)\n",
    "        retweet=driver.find_element(By.XPATH,'//*[@id=\"layers\"]/div[2]/div/div/div/div[2]/div[3]/div/div/div/div/div[2]/div/span')\n",
    "        driver.execute_script('arguments[0].click();',retweet)\n",
    "        print('Retweeted tweets and liked tweets')\n",
    "        time.sleep(2)\n",
    "\n",
    "    time.sleep(5)\n",
    "\n",
    "\n",
    "\n",
    "print('bot liked', n_likes,'tweets, and retweeted', n_retweets)\n",
    "\n",
    "time.sleep(60)"
   ]
  },
  {
   "cell_type": "code",
   "execution_count": null,
   "metadata": {},
   "outputs": [],
   "source": [
    "## Follow command\n",
    "\n",
    "follow_url='https://twitter.com/i/connect_people?user_id='\n",
    "driver.get(url)\n",
    "\n",
    "time.sleep(20)\n",
    "\n",
    "for i in range(1,4):\n",
    "    driver.execute_script(\"window.scrollTo(0,document.body.scrollHeight);\")\n",
    "\n",
    "follows=driver.find_elements(By.XPATH,'//div[contains(@aria-label,\"Follow\")]')\n",
    "print(len(follows))\n",
    "for f in range(len(follows)-1):\n",
    "    driver.execute_script('arguments[0].click();',follows[f])\n",
    "    print('followed')\n",
    "\n"
   ]
  }
 ],
 "metadata": {
  "interpreter": {
   "hash": "21dedf143b6208a263315fd77b12d7a48a44a0bd8e80a8f9153be80f3c957901"
  },
  "kernelspec": {
   "display_name": "Python 3.9.12 ('base')",
   "language": "python",
   "name": "python3"
  },
  "language_info": {
   "codemirror_mode": {
    "name": "ipython",
    "version": 3
   },
   "file_extension": ".py",
   "mimetype": "text/x-python",
   "name": "python",
   "nbconvert_exporter": "python",
   "pygments_lexer": "ipython3",
   "version": "3.9.12"
  },
  "orig_nbformat": 4
 },
 "nbformat": 4,
 "nbformat_minor": 2
}
